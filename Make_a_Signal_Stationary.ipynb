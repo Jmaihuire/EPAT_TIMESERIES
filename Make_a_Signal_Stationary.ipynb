{
  "nbformat": 4,
  "nbformat_minor": 0,
  "metadata": {
    "colab": {
      "name": "Make a Signal Stationary.ipynb",
      "provenance": [],
      "authorship_tag": "ABX9TyPKPFidGr8ARkN//4p0aeoE",
      "include_colab_link": true
    },
    "kernelspec": {
      "name": "python3",
      "display_name": "Python 3"
    }
  },
  "cells": [
    {
      "cell_type": "markdown",
      "metadata": {
        "id": "view-in-github",
        "colab_type": "text"
      },
      "source": [
        "<a href=\"https://colab.research.google.com/github/jesvin1/EPAT_TIMESERIES/blob/master/Make_a_Signal_Stationary.ipynb\" target=\"_parent\"><img src=\"https://colab.research.google.com/assets/colab-badge.svg\" alt=\"Open In Colab\"/></a>"
      ]
    },
    {
      "cell_type": "markdown",
      "metadata": {
        "id": "1IL84vC4HazE",
        "colab_type": "text"
      },
      "source": [
        "https://towardsdatascience.com/time-series-forecasting-in-real-life-budget-forecasting-with-arima-d5ec57e634cb"
      ]
    },
    {
      "cell_type": "markdown",
      "metadata": {
        "id": "_RW_MYQuNNzp",
        "colab_type": "text"
      },
      "source": [
        "#Importing Basics Packages"
      ]
    },
    {
      "cell_type": "code",
      "metadata": {
        "id": "UUuOInNtNTRJ",
        "colab_type": "code",
        "colab": {
          "base_uri": "https://localhost:8080/",
          "height": 437
        },
        "outputId": "97dc8304-a2a0-43b0-9713-dd6edf0fa8ec"
      },
      "source": [
        "!pip install yfinance"
      ],
      "execution_count": 4,
      "outputs": [
        {
          "output_type": "stream",
          "text": [
            "Collecting yfinance\n",
            "  Downloading https://files.pythonhosted.org/packages/c2/31/8b374a12b90def92a4e27d0fc595fc43635f395984e36a075244d98bd265/yfinance-0.1.54.tar.gz\n",
            "Requirement already satisfied: pandas>=0.24 in /usr/local/lib/python3.6/dist-packages (from yfinance) (0.25.3)\n",
            "Requirement already satisfied: numpy>=1.15 in /usr/local/lib/python3.6/dist-packages (from yfinance) (1.17.5)\n",
            "Requirement already satisfied: requests>=2.20 in /usr/local/lib/python3.6/dist-packages (from yfinance) (2.21.0)\n",
            "Requirement already satisfied: multitasking>=0.0.7 in /usr/local/lib/python3.6/dist-packages (from yfinance) (0.0.9)\n",
            "Requirement already satisfied: python-dateutil>=2.6.1 in /usr/local/lib/python3.6/dist-packages (from pandas>=0.24->yfinance) (2.6.1)\n",
            "Requirement already satisfied: pytz>=2017.2 in /usr/local/lib/python3.6/dist-packages (from pandas>=0.24->yfinance) (2018.9)\n",
            "Requirement already satisfied: urllib3<1.25,>=1.21.1 in /usr/local/lib/python3.6/dist-packages (from requests>=2.20->yfinance) (1.24.3)\n",
            "Requirement already satisfied: certifi>=2017.4.17 in /usr/local/lib/python3.6/dist-packages (from requests>=2.20->yfinance) (2019.11.28)\n",
            "Requirement already satisfied: chardet<3.1.0,>=3.0.2 in /usr/local/lib/python3.6/dist-packages (from requests>=2.20->yfinance) (3.0.4)\n",
            "Requirement already satisfied: idna<2.9,>=2.5 in /usr/local/lib/python3.6/dist-packages (from requests>=2.20->yfinance) (2.8)\n",
            "Requirement already satisfied: six>=1.5 in /usr/local/lib/python3.6/dist-packages (from python-dateutil>=2.6.1->pandas>=0.24->yfinance) (1.12.0)\n",
            "Building wheels for collected packages: yfinance\n",
            "  Building wheel for yfinance (setup.py) ... \u001b[?25l\u001b[?25hdone\n",
            "  Created wheel for yfinance: filename=yfinance-0.1.54-py2.py3-none-any.whl size=22409 sha256=d633587522c4238efabe2f76bf28830b224149d8473230dd0617bba8cea5abfc\n",
            "  Stored in directory: /root/.cache/pip/wheels/f9/e3/5b/ec24dd2984b12d61e0abf26289746c2436a0e7844f26f2515c\n",
            "Successfully built yfinance\n",
            "Installing collected packages: yfinance\n",
            "Successfully installed yfinance-0.1.54\n"
          ],
          "name": "stdout"
        },
        {
          "output_type": "stream",
          "text": [
            "/usr/local/lib/python3.6/dist-packages/google/colab/_pip.py:87: ResourceWarning: unclosed file <_io.TextIOWrapper name='/usr/local/lib/python3.6/dist-packages/yfinance-0.1.54.dist-info/top_level.txt' mode='r' encoding='UTF-8'>\n",
            "  for line in open(toplevel):\n"
          ],
          "name": "stderr"
        }
      ]
    },
    {
      "cell_type": "code",
      "metadata": {
        "id": "t_5HsxhZOAEn",
        "colab_type": "code",
        "colab": {}
      },
      "source": [
        "# imports datetime for picking beginning and end dates for the analysis\n",
        "import datetime\n",
        "# imports yahoo finance for getting historical stock prices\n",
        "import yfinance as yf\n",
        "# imports pandas for dataframe manipulation\n",
        "import pandas as pd\n",
        "# imports numpy\n",
        "import numpy as np\n",
        "# for data visualization\n",
        "import matplotlib as mpl\n",
        "# for changing the plot size in the Jupyter Notebook output\n",
        "%matplotlib inline\n",
        "# sets the plot size to 12x8\n",
        "mpl.rcParams['figure.figsize'] = (12,8)\n",
        "# for shorter lines with plotting\n",
        "from matplotlib import pyplot as plt\n",
        "# to hide warning messages\n",
        "import warnings\n",
        "warnings.filterwarnings('ignore')\n",
        "import statsmodels.tsa.api as smt\n",
        "import statsmodels.api as sm\n",
        "import scipy.stats as scs\n",
        "\n",
        "from statsmodels.tsa.stattools import adfuller\n",
        "from statsmodels.tsa.stattools import kpss\n",
        "from statsmodels.tsa.stattools import coint\n",
        "\n",
        "# sets the sample period as 5 years back from 09/12/2019\n",
        "end = datetime.datetime(2020, 2, 11)\n",
        "start = end - datetime.timedelta(days = 7*365)"
      ],
      "execution_count": 0,
      "outputs": []
    },
    {
      "cell_type": "markdown",
      "metadata": {
        "id": "ZUqQcqOiNeqG",
        "colab_type": "text"
      },
      "source": [
        "#Declaring a Function for time series plot"
      ]
    },
    {
      "cell_type": "code",
      "metadata": {
        "id": "uuxZp5_oOgMK",
        "colab_type": "code",
        "colab": {}
      },
      "source": [
        "def tsplot(y, lags=None, figsize=(10, 8), style='seaborn-bright'):\n",
        "    if not isinstance(y, pd.Series):\n",
        "        y = pd.Series(y)\n",
        "    with plt.style.context(style):\n",
        "        fig = plt.figure(figsize=figsize)\n",
        "        layout = (3, 2)\n",
        "        ts_ax = plt.subplot2grid(layout, (0, 0), colspan=2)\n",
        "        acf_ax = plt.subplot2grid(layout, (1, 0))\n",
        "        pacf_ax = plt.subplot2grid(layout, (1, 1))\n",
        "        qq_ax = plt.subplot2grid(layout, (2, 0))\n",
        "        pp_ax = plt.subplot2grid(layout, (2, 1))\n",
        "        \n",
        "        y.plot(ax=ts_ax, linewidth=1.5)\n",
        "        ts_ax.set_title('Time Series Analysis Plots')\n",
        "        smt.graphics.plot_acf(y, lags=lags, ax=acf_ax, alpha=0.05)\n",
        "        smt.graphics.plot_pacf(y, lags=lags, ax=pacf_ax, alpha=0.05)\n",
        "        sm.qqplot(y, line='s', ax=qq_ax)\n",
        "        qq_ax.set_title('QQ Plot')\n",
        "        scs.probplot(y, sparams=(y.mean(), y.std()), plot=pp_ax)\n",
        "        \n",
        "        plt.tight_layout()\n",
        "    \n",
        "    return"
      ],
      "execution_count": 0,
      "outputs": []
    },
    {
      "cell_type": "markdown",
      "metadata": {
        "id": "GmAmOrj7PLyi",
        "colab_type": "text"
      },
      "source": [
        "#Getting Nifty 50 data from Yahoo"
      ]
    },
    {
      "cell_type": "code",
      "metadata": {
        "id": "jKRkAoxHORQE",
        "colab_type": "code",
        "colab": {
          "base_uri": "https://localhost:8080/",
          "height": 237
        },
        "outputId": "2a6bdd9a-7d5d-4f2f-b051-19ff6711315f"
      },
      "source": [
        "# gets the closing price fo Nifty 50 for the past 7 years\n",
        "my_stock = yf.Ticker('^NSEI')\n",
        "my_stock = pd.DataFrame(my_stock.history(start = start, end = end)['Close'])\n",
        "my_stock = my_stock.rename(str.lower, axis = 'columns')\n",
        "my_stock.head()\n"
      ],
      "execution_count": 9,
      "outputs": [
        {
          "output_type": "execute_result",
          "data": {
            "text/html": [
              "<div>\n",
              "<style scoped>\n",
              "    .dataframe tbody tr th:only-of-type {\n",
              "        vertical-align: middle;\n",
              "    }\n",
              "\n",
              "    .dataframe tbody tr th {\n",
              "        vertical-align: top;\n",
              "    }\n",
              "\n",
              "    .dataframe thead th {\n",
              "        text-align: right;\n",
              "    }\n",
              "</style>\n",
              "<table border=\"1\" class=\"dataframe\">\n",
              "  <thead>\n",
              "    <tr style=\"text-align: right;\">\n",
              "      <th></th>\n",
              "      <th>close</th>\n",
              "    </tr>\n",
              "    <tr>\n",
              "      <th>Date</th>\n",
              "      <th></th>\n",
              "    </tr>\n",
              "  </thead>\n",
              "  <tbody>\n",
              "    <tr>\n",
              "      <th>2013-02-12</th>\n",
              "      <td>5922.50</td>\n",
              "    </tr>\n",
              "    <tr>\n",
              "      <th>2013-02-13</th>\n",
              "      <td>5932.95</td>\n",
              "    </tr>\n",
              "    <tr>\n",
              "      <th>2013-02-14</th>\n",
              "      <td>5896.95</td>\n",
              "    </tr>\n",
              "    <tr>\n",
              "      <th>2013-02-15</th>\n",
              "      <td>5887.40</td>\n",
              "    </tr>\n",
              "    <tr>\n",
              "      <th>2013-02-18</th>\n",
              "      <td>5898.20</td>\n",
              "    </tr>\n",
              "  </tbody>\n",
              "</table>\n",
              "</div>"
            ],
            "text/plain": [
              "              close\n",
              "Date               \n",
              "2013-02-12  5922.50\n",
              "2013-02-13  5932.95\n",
              "2013-02-14  5896.95\n",
              "2013-02-15  5887.40\n",
              "2013-02-18  5898.20"
            ]
          },
          "metadata": {
            "tags": []
          },
          "execution_count": 9
        }
      ]
    },
    {
      "cell_type": "code",
      "metadata": {
        "id": "hPrrbPwWPmpc",
        "colab_type": "code",
        "colab": {
          "base_uri": "https://localhost:8080/",
          "height": 585
        },
        "outputId": "899aa3d0-3bed-4d3f-b5c8-c8b1085cd448"
      },
      "source": [
        "tsplot(my_stock.close)"
      ],
      "execution_count": 11,
      "outputs": [
        {
          "output_type": "display_data",
          "data": {
            "image/png": "[encoded data removed]",
            "text/plain": [
              "<Figure size 720x576 with 5 Axes>"
            ]
          },
          "metadata": {
            "tags": []
          }
        }
      ]
    },
    {
      "cell_type": "markdown",
      "metadata": {
        "id": "zlf0PA1CP9Uq",
        "colab_type": "text"
      },
      "source": [
        "Dickey-Fuller Test can help to find out that a time series is stationary or not. It is a statistical test, where the Null Hypothesis states there is a unit root for the given series, while the alternative hypothesis states that the series is stationary."
      ]
    },
    {
      "cell_type": "markdown",
      "metadata": {
        "id": "MjtsAyQwQhhd",
        "colab_type": "text"
      },
      "source": [
        "#Dickey-Fuller test, with the option of doing a log-transform."
      ]
    },
    {
      "cell_type": "code",
      "metadata": {
        "id": "Mo-oz6P3Ptfh",
        "colab_type": "code",
        "colab": {}
      },
      "source": [
        "# log_dataset: boolean indicating if we want to log-transform the dataset before running Augmented Dickey-Fuller test\n",
        "def adf_test(dataset, log_dataset):\n",
        "  ds = dataset\n",
        "  if log_dataset:\n",
        "    ds = dataset.apply(lambda x: np.log(x))\n",
        "    ds.dropna(inplace=True)  \n",
        "  result = adfuller(ds.close)  \n",
        "  \n",
        "  print('Augmented Dickey-Fuller Test')\n",
        "  print('test statistic: %.10f' % result[0])\n",
        "  print('p-value: %.10f' % result[1])\n",
        "  print('critical values')  \n",
        "  \n",
        "  for key, value in result[4].items():\n",
        "    print('\\t%s: %.10f' % (key, value))"
      ],
      "execution_count": 0,
      "outputs": []
    },
    {
      "cell_type": "code",
      "metadata": {
        "id": "cEIUyDPGRUTy",
        "colab_type": "code",
        "colab": {
          "base_uri": "https://localhost:8080/",
          "height": 144
        },
        "outputId": "2c49fb05-8933-4de2-f7be-01fad57fcb47"
      },
      "source": [
        "adf_test(my_stock,1)"
      ],
      "execution_count": 28,
      "outputs": [
        {
          "output_type": "stream",
          "text": [
            "Augmented Dickey-Fuller Test\n",
            "test statistic: -1.0663849923\n",
            "p-value: 0.7282893893\n",
            "critical values\n",
            "\t1%: -3.4341889019\n",
            "\t5%: -2.8632356598\n",
            "\t10%: -2.5676727236\n"
          ],
          "name": "stdout"
        }
      ]
    },
    {
      "cell_type": "markdown",
      "metadata": {
        "id": "WIwJ1TMDSjH6",
        "colab_type": "text"
      },
      "source": [
        "We can apply other techniques that transform the data, without changing its properties:\n",
        "\n",
        "    Differencing subtract each data point by the value of a specific time point in the series, e.g., always subtract by the value of the next period\n",
        "    \n",
        "    Decomposition this technique is going to isolate each component of the time-series that was mentioned at the beginning (trend, seasonality, cycle, irregularity) and provide the residuals"
      ]
    },
    {
      "cell_type": "markdown",
      "metadata": {
        "id": "BOSAvVoUS2Ff",
        "colab_type": "text"
      },
      "source": [
        "#Differencing"
      ]
    },
    {
      "cell_type": "code",
      "metadata": {
        "id": "fMVpsBDISct7",
        "colab_type": "code",
        "colab": {}
      },
      "source": [
        "# data: our dataset\n",
        "# column_name: column to differencepd.DataFrame(data=np.diff(np.array(data[column_name])))\n",
        "n_diff_dataset.columns = [column_name]\n",
        "  \n",
        "# dropping NAN values\n",
        "n_diff_dataset.dropna(inplace=True)"
      ],
      "execution_count": 0,
      "outputs": []
    }
  ]
}