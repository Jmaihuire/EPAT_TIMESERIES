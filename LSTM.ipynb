{
  "nbformat": 4,
  "nbformat_minor": 0,
  "metadata": {
    "kernelspec": {
      "display_name": "Python 3",
      "language": "python",
      "name": "python3"
    },
    "language_info": {
      "codemirror_mode": {
        "name": "ipython",
        "version": 3
      },
      "file_extension": ".py",
      "mimetype": "text/x-python",
      "name": "python",
      "nbconvert_exporter": "python",
      "pygments_lexer": "ipython3",
      "version": "3.7.4"
    },
    "colab": {
      "name": "Time Series Analysis-some stylized facts about time-series.ipynb",
      "provenance": [],
      "include_colab_link": true
    }
  },
  "cells": [
    {
      "cell_type": "markdown",
      "metadata": {
        "id": "view-in-github",
        "colab_type": "text"
      },
      "source": [
        "<a href=\"https://colab.research.google.com/github/jesvin1/EPAT_TIMESERIES/blob/master/LSTM.ipynb\" target=\"_parent\"><img src=\"https://colab.research.google.com/assets/colab-badge.svg\" alt=\"Open In Colab\"/></a>"
      ]
    },
    {
      "cell_type": "markdown",
      "metadata": {
        "id": "xVtBtTAiZ83-",
        "colab_type": "text"
      },
      "source": [
        "https://towardsdatascience.com/time-series-analysis-visualization-forecasting-with-lstm-77a905180eba\n",
        "\n",
        "https://towardsdatascience.com/trend-seasonality-moving-average-auto-regressive-model-my-journey-to-time-series-data-with-edc4c0c8284b"
      ]
    },
    {
      "cell_type": "code",
      "metadata": {
        "id": "IR6_r4phZ84B",
        "colab_type": "code",
        "outputId": "89fa7a93-736a-41ac-f3c5-2688646310ce",
        "colab": {
          "base_uri": "https://localhost:8080/",
          "height": 35
        }
      },
      "source": [
        "!pip install -q yfinance"
      ],
      "execution_count": 1,
      "outputs": [
        {
          "output_type": "stream",
          "text": [
            "  Building wheel for yfinance (setup.py) ... \u001b[?25l\u001b[?25hdone\n"
          ],
          "name": "stdout"
        }
      ]
    },
    {
      "cell_type": "markdown",
      "metadata": {
        "id": "KU8u1qLMcB2v",
        "colab_type": "text"
      },
      "source": [
        "# Importing the starndard libraries for time series **analysis**"
      ]
    },
    {
      "cell_type": "code",
      "metadata": {
        "id": "px4I1pswZ84F",
        "colab_type": "code",
        "colab": {}
      },
      "source": [
        "# imports datetime for picking beginning and end dates for the analysis\n",
        "import datetime\n",
        "# imports yahoo finance for getting historical stock prices\n",
        "import yfinance as yf\n",
        "# imports pandas for dataframe manipulation\n",
        "import pandas as pd\n",
        "# imports numpy\n",
        "import numpy as np\n",
        "# for data visualization\n",
        "import matplotlib as mpl\n",
        "# for changing the plot size in the Jupyter Notebook output\n",
        "%matplotlib inline\n",
        "# sets the plot size to 12x8\n",
        "mpl.rcParams['figure.figsize'] = (12,8)\n",
        "# for shorter lines with plotting\n",
        "from matplotlib import pyplot as plt\n",
        "# to hide warning messages\n",
        "import warnings\n",
        "warnings.filterwarnings('ignore')\n",
        "import statsmodels.tsa.api as smt\n",
        "import statsmodels.api as sm\n",
        "import scipy.stats as scs\n",
        "import seaborn as sns\n",
        "\n",
        "from statsmodels.tsa.stattools import adfuller\n",
        "from statsmodels.tsa.stattools import kpss\n",
        "from statsmodels.tsa.stattools import coint\n",
        "\n",
        "# sets the sample period as 5 years back from 09/12/2019\n",
        "end = datetime.datetime(2019, 9, 12)\n",
        "start = end - datetime.timedelta(days = 7*365)\n"
      ],
      "execution_count": 0,
      "outputs": []
    },
    {
      "cell_type": "markdown",
      "metadata": {
        "id": "SPYnA2wVcAuL",
        "colab_type": "text"
      },
      "source": [
        "# Importing libraries for the Kears"
      ]
    },
    {
      "cell_type": "code",
      "metadata": {
        "id": "30EjvTAuctMH",
        "colab_type": "code",
        "outputId": "eb9b4395-ee84-47ab-9b86-f0f0b31e3cec",
        "colab": {
          "base_uri": "https://localhost:8080/",
          "height": 219
        }
      },
      "source": [
        "!pip show tensorflow"
      ],
      "execution_count": 3,
      "outputs": [
        {
          "output_type": "stream",
          "text": [
            "Name: tensorflow\n",
            "Version: 1.15.0\n",
            "Summary: TensorFlow is an open source machine learning framework for everyone.\n",
            "Home-page: https://www.tensorflow.org/\n",
            "Author: Google Inc.\n",
            "Author-email: packages@tensorflow.org\n",
            "License: Apache 2.0\n",
            "Location: /usr/local/lib/python3.6/dist-packages\n",
            "Requires: opt-einsum, six, gast, tensorboard, grpcio, google-pasta, tensorflow-estimator, numpy, astor, protobuf, keras-applications, keras-preprocessing, termcolor, absl-py, wrapt, wheel\n",
            "Required-by: stable-baselines, magenta, fancyimpute\n"
          ],
          "name": "stdout"
        }
      ]
    },
    {
      "cell_type": "code",
      "metadata": {
        "id": "mHnTPjNSdSC9",
        "colab_type": "code",
        "colab": {}
      },
      "source": [
        "!pip install -q google-auth"
      ],
      "execution_count": 0,
      "outputs": []
    },
    {
      "cell_type": "code",
      "metadata": {
        "id": "KhNZ--4MdVc3",
        "colab_type": "code",
        "colab": {}
      },
      "source": [
        "!pip install -q grpcio"
      ],
      "execution_count": 0,
      "outputs": []
    },
    {
      "cell_type": "code",
      "metadata": {
        "id": "SgBZ8Nu3c5d5",
        "colab_type": "code",
        "outputId": "bff4bb16-6ca6-4feb-95f7-0ffa7cfe6f2d",
        "colab": {
          "base_uri": "https://localhost:8080/",
          "height": 1000
        }
      },
      "source": [
        "!pip install --upgrade tensorflow"
      ],
      "execution_count": 6,
      "outputs": [
        {
          "output_type": "stream",
          "text": [
            "Collecting tensorflow\n",
            "\u001b[?25l  Downloading https://files.pythonhosted.org/packages/46/0f/7bd55361168bb32796b360ad15a25de6966c9c1beb58a8e30c01c8279862/tensorflow-2.0.0-cp36-cp36m-manylinux2010_x86_64.whl (86.3MB)\n",
            "\u001b[K     |████████████████████████████████| 86.3MB 40kB/s \n",
            "\u001b[?25hRequirement already satisfied, skipping upgrade: wrapt>=1.11.1 in /usr/local/lib/python3.6/dist-packages (from tensorflow) (1.11.2)\n",
            "Requirement already satisfied, skipping upgrade: grpcio>=1.8.6 in /usr/local/lib/python3.6/dist-packages (from tensorflow) (1.15.0)\n",
            "Collecting tensorboard<2.1.0,>=2.0.0\n",
            "\u001b[?25l  Downloading https://files.pythonhosted.org/packages/76/54/99b9d5d52d5cb732f099baaaf7740403e83fe6b0cedde940fabd2b13d75a/tensorboard-2.0.2-py3-none-any.whl (3.8MB)\n",
            "\u001b[K     |████████████████████████████████| 3.8MB 42.6MB/s \n",
            "\u001b[?25hRequirement already satisfied, skipping upgrade: google-pasta>=0.1.6 in /usr/local/lib/python3.6/dist-packages (from tensorflow) (0.1.8)\n",
            "Requirement already satisfied, skipping upgrade: wheel>=0.26 in /usr/local/lib/python3.6/dist-packages (from tensorflow) (0.33.6)\n",
            "Requirement already satisfied, skipping upgrade: keras-preprocessing>=1.0.5 in /usr/local/lib/python3.6/dist-packages (from tensorflow) (1.1.0)\n",
            "Requirement already satisfied, skipping upgrade: keras-applications>=1.0.8 in /usr/local/lib/python3.6/dist-packages (from tensorflow) (1.0.8)\n",
            "Requirement already satisfied, skipping upgrade: numpy<2.0,>=1.16.0 in /usr/local/lib/python3.6/dist-packages (from tensorflow) (1.17.4)\n",
            "Requirement already satisfied, skipping upgrade: six>=1.10.0 in /usr/local/lib/python3.6/dist-packages (from tensorflow) (1.12.0)\n",
            "Requirement already satisfied, skipping upgrade: protobuf>=3.6.1 in /usr/local/lib/python3.6/dist-packages (from tensorflow) (3.10.0)\n",
            "Requirement already satisfied, skipping upgrade: absl-py>=0.7.0 in /usr/local/lib/python3.6/dist-packages (from tensorflow) (0.8.1)\n",
            "Requirement already satisfied, skipping upgrade: termcolor>=1.1.0 in /usr/local/lib/python3.6/dist-packages (from tensorflow) (1.1.0)\n",
            "Collecting tensorflow-estimator<2.1.0,>=2.0.0\n",
            "\u001b[?25l  Downloading https://files.pythonhosted.org/packages/fc/08/8b927337b7019c374719145d1dceba21a8bb909b93b1ad6f8fb7d22c1ca1/tensorflow_estimator-2.0.1-py2.py3-none-any.whl (449kB)\n",
            "\u001b[K     |████████████████████████████████| 450kB 57.3MB/s \n",
            "\u001b[?25hRequirement already satisfied, skipping upgrade: opt-einsum>=2.3.2 in /usr/local/lib/python3.6/dist-packages (from tensorflow) (3.1.0)\n",
            "Requirement already satisfied, skipping upgrade: gast==0.2.2 in /usr/local/lib/python3.6/dist-packages (from tensorflow) (0.2.2)\n",
            "Requirement already satisfied, skipping upgrade: astor>=0.6.0 in /usr/local/lib/python3.6/dist-packages (from tensorflow) (0.8.0)\n",
            "Requirement already satisfied, skipping upgrade: werkzeug>=0.11.15 in /usr/local/lib/python3.6/dist-packages (from tensorboard<2.1.0,>=2.0.0->tensorflow) (0.16.0)\n",
            "Requirement already satisfied, skipping upgrade: markdown>=2.6.8 in /usr/local/lib/python3.6/dist-packages (from tensorboard<2.1.0,>=2.0.0->tensorflow) (3.1.1)\n",
            "Requirement already satisfied, skipping upgrade: google-auth-oauthlib<0.5,>=0.4.1 in /usr/local/lib/python3.6/dist-packages (from tensorboard<2.1.0,>=2.0.0->tensorflow) (0.4.1)\n",
            "Collecting google-auth<2,>=1.6.3\n",
            "\u001b[?25l  Downloading https://files.pythonhosted.org/packages/ec/11/1d90cbfa72a084b08498e8cea1fee199bc965cdac391d241f5ae6257073e/google_auth-1.7.2-py2.py3-none-any.whl (74kB)\n",
            "\u001b[K     |████████████████████████████████| 81kB 10.4MB/s \n",
            "\u001b[?25hRequirement already satisfied, skipping upgrade: requests<3,>=2.21.0 in /usr/local/lib/python3.6/dist-packages (from tensorboard<2.1.0,>=2.0.0->tensorflow) (2.21.0)\n",
            "Requirement already satisfied, skipping upgrade: setuptools>=41.0.0 in /usr/local/lib/python3.6/dist-packages (from tensorboard<2.1.0,>=2.0.0->tensorflow) (42.0.1)\n",
            "Requirement already satisfied, skipping upgrade: h5py in /usr/local/lib/python3.6/dist-packages (from keras-applications>=1.0.8->tensorflow) (2.8.0)\n",
            "Requirement already satisfied, skipping upgrade: requests-oauthlib>=0.7.0 in /usr/local/lib/python3.6/dist-packages (from google-auth-oauthlib<0.5,>=0.4.1->tensorboard<2.1.0,>=2.0.0->tensorflow) (1.3.0)\n",
            "Requirement already satisfied, skipping upgrade: rsa<4.1,>=3.1.4 in /usr/local/lib/python3.6/dist-packages (from google-auth<2,>=1.6.3->tensorboard<2.1.0,>=2.0.0->tensorflow) (4.0)\n",
            "Requirement already satisfied, skipping upgrade: pyasn1-modules>=0.2.1 in /usr/local/lib/python3.6/dist-packages (from google-auth<2,>=1.6.3->tensorboard<2.1.0,>=2.0.0->tensorflow) (0.2.7)\n",
            "Requirement already satisfied, skipping upgrade: cachetools<3.2,>=2.0.0 in /usr/local/lib/python3.6/dist-packages (from google-auth<2,>=1.6.3->tensorboard<2.1.0,>=2.0.0->tensorflow) (3.1.1)\n",
            "Requirement already satisfied, skipping upgrade: certifi>=2017.4.17 in /usr/local/lib/python3.6/dist-packages (from requests<3,>=2.21.0->tensorboard<2.1.0,>=2.0.0->tensorflow) (2019.9.11)\n",
            "Requirement already satisfied, skipping upgrade: idna<2.9,>=2.5 in /usr/local/lib/python3.6/dist-packages (from requests<3,>=2.21.0->tensorboard<2.1.0,>=2.0.0->tensorflow) (2.8)\n",
            "Requirement already satisfied, skipping upgrade: chardet<3.1.0,>=3.0.2 in /usr/local/lib/python3.6/dist-packages (from requests<3,>=2.21.0->tensorboard<2.1.0,>=2.0.0->tensorflow) (3.0.4)\n",
            "Requirement already satisfied, skipping upgrade: urllib3<1.25,>=1.21.1 in /usr/local/lib/python3.6/dist-packages (from requests<3,>=2.21.0->tensorboard<2.1.0,>=2.0.0->tensorflow) (1.24.3)\n",
            "Requirement already satisfied, skipping upgrade: oauthlib>=3.0.0 in /usr/local/lib/python3.6/dist-packages (from requests-oauthlib>=0.7.0->google-auth-oauthlib<0.5,>=0.4.1->tensorboard<2.1.0,>=2.0.0->tensorflow) (3.1.0)\n",
            "Requirement already satisfied, skipping upgrade: pyasn1>=0.1.3 in /usr/local/lib/python3.6/dist-packages (from rsa<4.1,>=3.1.4->google-auth<2,>=1.6.3->tensorboard<2.1.0,>=2.0.0->tensorflow) (0.4.8)\n",
            "\u001b[31mERROR: tensorboard 2.0.2 has requirement grpcio>=1.24.3, but you'll have grpcio 1.15.0 which is incompatible.\u001b[0m\n",
            "\u001b[31mERROR: google-colab 1.0.0 has requirement google-auth~=1.4.0, but you'll have google-auth 1.7.2 which is incompatible.\u001b[0m\n",
            "Installing collected packages: google-auth, tensorboard, tensorflow-estimator, tensorflow\n",
            "  Found existing installation: google-auth 1.4.2\n",
            "    Uninstalling google-auth-1.4.2:\n",
            "      Successfully uninstalled google-auth-1.4.2\n",
            "  Found existing installation: tensorboard 1.15.0\n",
            "    Uninstalling tensorboard-1.15.0:\n",
            "      Successfully uninstalled tensorboard-1.15.0\n",
            "  Found existing installation: tensorflow-estimator 1.15.1\n",
            "    Uninstalling tensorflow-estimator-1.15.1:\n",
            "      Successfully uninstalled tensorflow-estimator-1.15.1\n",
            "  Found existing installation: tensorflow 1.15.0\n",
            "    Uninstalling tensorflow-1.15.0:\n",
            "      Successfully uninstalled tensorflow-1.15.0\n",
            "Successfully installed google-auth-1.7.2 tensorboard-2.0.2 tensorflow-2.0.0 tensorflow-estimator-2.0.1\n"
          ],
          "name": "stdout"
        },
        {
          "output_type": "display_data",
          "data": {
            "application/vnd.colab-display-data+json": {
              "pip_warning": {
                "packages": [
                  "google"
                ]
              }
            }
          },
          "metadata": {
            "tags": []
          }
        }
      ]
    },
    {
      "cell_type": "code",
      "metadata": {
        "id": "nHXaOtG8Z84H",
        "colab_type": "code",
        "colab": {
          "base_uri": "https://localhost:8080/",
          "height": 35
        },
        "outputId": "cfb47bda-2d3a-4c3d-8ac0-e9136239838b"
      },
      "source": [
        "%matplotlib inline\n",
        "import math\n",
        "import keras\n",
        "from keras.models import Sequential\n",
        "from keras.layers import Dense\n",
        "from keras.layers import LSTM\n",
        "from keras.layers import Dropout\n",
        "from keras.layers import *\n",
        "from sklearn.preprocessing import MinMaxScaler\n",
        "from sklearn.metrics import mean_squared_error\n",
        "from sklearn.metrics import mean_absolute_error\n",
        "from keras.callbacks import EarlyStopping"
      ],
      "execution_count": 7,
      "outputs": [
        {
          "output_type": "stream",
          "text": [
            "Using TensorFlow backend.\n"
          ],
          "name": "stderr"
        }
      ]
    },
    {
      "cell_type": "code",
      "metadata": {
        "id": "TEBK0MPWZ84M",
        "colab_type": "code",
        "colab": {}
      },
      "source": [
        "def tsplot(y, lags=None, figsize=(10, 8), style='seaborn-bright'):\n",
        "    if not isinstance(y, pd.Series):\n",
        "        y = pd.Series(y)\n",
        "    with plt.style.context(style):\n",
        "        fig = plt.figure(figsize=figsize)\n",
        "        layout = (3, 2)\n",
        "        ts_ax = plt.subplot2grid(layout, (0, 0), colspan=2)\n",
        "        acf_ax = plt.subplot2grid(layout, (1, 0))\n",
        "        pacf_ax = plt.subplot2grid(layout, (1, 1))\n",
        "        qq_ax = plt.subplot2grid(layout, (2, 0))\n",
        "        pp_ax = plt.subplot2grid(layout, (2, 1))\n",
        "        \n",
        "        y.plot(ax=ts_ax, linewidth=1.5)\n",
        "        ts_ax.set_title('Time Series Analysis Plots')\n",
        "        smt.graphics.plot_acf(y, lags=lags, ax=acf_ax, alpha=0.05)\n",
        "        smt.graphics.plot_pacf(y, lags=lags, ax=pacf_ax, alpha=0.05)\n",
        "        sm.qqplot(y, line='s', ax=qq_ax)\n",
        "        qq_ax.set_title('QQ Plot')\n",
        "        scs.probplot(y, sparams=(y.mean(), y.std()), plot=pp_ax)\n",
        "        \n",
        "        plt.tight_layout()\n",
        "    \n",
        "    return"
      ],
      "execution_count": 0,
      "outputs": []
    },
    {
      "cell_type": "code",
      "metadata": {
        "id": "Kk6cv84BZ84O",
        "colab_type": "code",
        "colab": {}
      },
      "source": [
        "class StationarityTests:\n",
        "    def __init__(self, significance=.05):\n",
        "        self.SignificanceLevel = significance\n",
        "        self.pValue = None\n",
        "        self.isStationary = None\n",
        "        \n",
        "    def ADF_Stationarity_Test(self, timeseries, printResults = True, test_type='adfuller'):\n",
        "        \n",
        "        if test_type=='adfuller':\n",
        "            \n",
        "            #Dickey-Fuller test:\n",
        "            adfTest = adfuller(timeseries, autolag='AIC')\n",
        "\n",
        "            self.pValue = adfTest[1]\n",
        "\n",
        "            if (self.pValue<self.SignificanceLevel):\n",
        "                self.isStationary = True\n",
        "            else:\n",
        "                self.isStationary = False\n",
        "\n",
        "            if printResults:\n",
        "                dfResults = pd.Series(adfTest[0:4], index=['ADF Test Statistic','P-Value','# Lags Used','# Observations Used'])\n",
        "\n",
        "                #Add Critical Values\n",
        "                for key,value in adfTest[4].items():\n",
        "                    dfResults['Critical Value (%s)'%key] = value\n",
        "\n",
        "                print('####################################Augmented Dickey-Fuller Test Results:####################################')\n",
        "                print(dfResults)\n",
        "                print(\"Is the time series stationary? {0}\".format(sTest.isStationary))\n",
        "        if test_type =='adfuller':\n",
        "            \n",
        "            #Kwiatkowski-Phillips-Schmidt-Shin test for stationarity:\n",
        "            kpssTest = kpss(timeseries)\n",
        "\n",
        "            self.pValue = kpssTest[1]\n",
        "\n",
        "            if (self.pValue<self.SignificanceLevel):\n",
        "                self.isStationary = True\n",
        "            else:\n",
        "                self.isStationary = False\n",
        "\n",
        "            if printResults:\n",
        "                kpssResults = pd.Series(kpssTest[0:4], index=['KPSS Test Statistic','P-Value','# Lags Used','# Observations Used'])\n",
        "\n",
        "                '''#Add Critical Values\n",
        "                for key,value in kpssTest[4].items():\n",
        "                    dfResults['Critical Value (%s)'%key] = value'''\n",
        "\n",
        "                print('####################################KPSS Test Results:####################################')\n",
        "                print(kpssResults)\n",
        "                print(\"Is the time series stationary? {0}\".format(sTest.isStationary))"
      ],
      "execution_count": 0,
      "outputs": []
    },
    {
      "cell_type": "markdown",
      "metadata": {
        "id": "Ud-KJZvCd1_7",
        "colab_type": "text"
      },
      "source": [
        "# Getting the data for time series analysis"
      ]
    },
    {
      "cell_type": "code",
      "metadata": {
        "id": "QlfnlmIzZ84S",
        "colab_type": "code",
        "colab": {}
      },
      "source": [
        "# gets the closing price fo HDFC for the past 7 years\n",
        "my_stock = yf.Ticker('HDFCBANK.NS')\n",
        "my_stock = pd.DataFrame(my_stock.history(start = start, end = end)['Close'])\n",
        "my_stock = my_stock.rename(str.lower, axis = 'columns')"
      ],
      "execution_count": 0,
      "outputs": []
    },
    {
      "cell_type": "code",
      "metadata": {
        "id": "lwQRVmpfe6Tc",
        "colab_type": "code",
        "outputId": "6cd5c69e-4b7a-43ae-c720-e72e925a7225",
        "colab": {
          "base_uri": "https://localhost:8080/",
          "height": 237
        }
      },
      "source": [
        "my_stock.head()"
      ],
      "execution_count": 11,
      "outputs": [
        {
          "output_type": "execute_result",
          "data": {
            "text/html": [
              "<div>\n",
              "<style scoped>\n",
              "    .dataframe tbody tr th:only-of-type {\n",
              "        vertical-align: middle;\n",
              "    }\n",
              "\n",
              "    .dataframe tbody tr th {\n",
              "        vertical-align: top;\n",
              "    }\n",
              "\n",
              "    .dataframe thead th {\n",
              "        text-align: right;\n",
              "    }\n",
              "</style>\n",
              "<table border=\"1\" class=\"dataframe\">\n",
              "  <thead>\n",
              "    <tr style=\"text-align: right;\">\n",
              "      <th></th>\n",
              "      <th>close</th>\n",
              "    </tr>\n",
              "    <tr>\n",
              "      <th>Date</th>\n",
              "      <th></th>\n",
              "    </tr>\n",
              "  </thead>\n",
              "  <tbody>\n",
              "    <tr>\n",
              "      <th>2012-09-13</th>\n",
              "      <td>268.92</td>\n",
              "    </tr>\n",
              "    <tr>\n",
              "      <th>2012-09-14</th>\n",
              "      <td>275.01</td>\n",
              "    </tr>\n",
              "    <tr>\n",
              "      <th>2012-09-17</th>\n",
              "      <td>273.01</td>\n",
              "    </tr>\n",
              "    <tr>\n",
              "      <th>2012-09-18</th>\n",
              "      <td>271.73</td>\n",
              "    </tr>\n",
              "    <tr>\n",
              "      <th>2012-09-20</th>\n",
              "      <td>272.38</td>\n",
              "    </tr>\n",
              "  </tbody>\n",
              "</table>\n",
              "</div>"
            ],
            "text/plain": [
              "             close\n",
              "Date              \n",
              "2012-09-13  268.92\n",
              "2012-09-14  275.01\n",
              "2012-09-17  273.01\n",
              "2012-09-18  271.73\n",
              "2012-09-20  272.38"
            ]
          },
          "metadata": {
            "tags": []
          },
          "execution_count": 11
        }
      ]
    },
    {
      "cell_type": "markdown",
      "metadata": {
        "id": "q0yj8wAseNwr",
        "colab_type": "text"
      },
      "source": [
        "# **Statistical Normality Test (D’Agostino’s K² Test)** \n",
        "\n",
        "1.   p <= alpha: reject H0, not normal.\n",
        "2.   p > alpha: fail to reject H0, normal.\n",
        "\n",
        "\n",
        "\n"
      ]
    },
    {
      "cell_type": "code",
      "metadata": {
        "id": "xfEexyWlZ84T",
        "colab_type": "code",
        "outputId": "ca75028c-38f8-4746-a814-4da12a9f62db",
        "colab": {
          "base_uri": "https://localhost:8080/",
          "height": 53
        }
      },
      "source": [
        "stat, p = scs.normaltest(my_stock.close)\n",
        "print('Statistics=%.3f, p=%.3f' % (stat, p))\n",
        "alpha = 0.05\n",
        "if p > alpha:\n",
        "    print('Data looks Gaussian (fail to reject H0)')\n",
        "else:\n",
        "    print('Data does not look Gaussian (reject H0)')"
      ],
      "execution_count": 12,
      "outputs": [
        {
          "output_type": "stream",
          "text": [
            "Statistics=825.443, p=0.000\n",
            "Data does not look Gaussian (reject H0)\n"
          ],
          "name": "stdout"
        }
      ]
    },
    {
      "cell_type": "markdown",
      "metadata": {
        "id": "30bWWx7lmqvz",
        "colab_type": "text"
      },
      "source": [
        "# Stationarity\n",
        "In statistics, the Dickey–Fuller test tests the null hypothesis that a unit root is present in an autoregressive model. The alternative hypothesis is different depending on which version of the test is used, but is usually stationarity or trend-stationarity.\n",
        "\n",
        "Stationary series has constant mean and variance over time. Rolling average and the rolling standard deviation of time series do not change over time.\n",
        "\n",
        "# Dickey-Fuller test\n",
        "Null Hypothesis (H0): It suggests the time series has a unit root, meaning it is non-stationary. It has some time dependent structure.\n",
        "Alternate Hypothesis (H1): It suggests the time series does not have a unit root, meaning it is stationary. It does not have time-dependent structure.\n",
        "p-value > 0.05: Accept the null hypothesis (H0), the data has a unit root and is non-stationary.\n",
        "p-value <= 0.05: Reject the null hypothesis (H0), the data does not have a unit root and is stationary."
      ]
    },
    {
      "cell_type": "code",
      "metadata": {
        "id": "xRN6IApsZ84V",
        "colab_type": "code",
        "outputId": "d447246c-33dd-4727-d107-607566368daa",
        "colab": {
          "base_uri": "https://localhost:8080/",
          "height": 362
        }
      },
      "source": [
        "sTest = StationarityTests()\n",
        "#my_stock['returns']=my_stock.close.pct_change(1)\n",
        "sTest.ADF_Stationarity_Test(my_stock.close.dropna(), printResults = True)"
      ],
      "execution_count": 13,
      "outputs": [
        {
          "output_type": "stream",
          "text": [
            "####################################Augmented Dickey-Fuller Test Results:####################################\n",
            "ADF Test Statistic         0.408606\n",
            "P-Value                    0.981814\n",
            "# Lags Used                2.000000\n",
            "# Observations Used     1715.000000\n",
            "Critical Value (1%)       -3.434169\n",
            "Critical Value (5%)       -2.863227\n",
            "Critical Value (10%)      -2.567668\n",
            "dtype: float64\n",
            "Is the time series stationary? False\n",
            "####################################KPSS Test Results:####################################\n",
            "KPSS Test Statistic                                              6.38886\n",
            "P-Value                                                             0.01\n",
            "# Lags Used                                                           25\n",
            "# Observations Used    {'10%': 0.347, '5%': 0.463, '2.5%': 0.574, '1%...\n",
            "dtype: object\n",
            "Is the time series stationary? True\n"
          ],
          "name": "stdout"
        },
        {
          "output_type": "stream",
          "text": [
            "/usr/local/lib/python3.6/dist-packages/statsmodels/tsa/stattools.py:1709: InterpolationWarning: p-value is smaller than the indicated p-value\n",
            "  warn(\"p-value is smaller than the indicated p-value\", InterpolationWarning)\n"
          ],
          "name": "stderr"
        }
      ]
    },
    {
      "cell_type": "code",
      "metadata": {
        "id": "IxHXihPwZ84W",
        "colab_type": "code",
        "outputId": "9f1de97e-c03e-4658-a087-e1fd240cb327",
        "colab": {
          "base_uri": "https://localhost:8080/",
          "height": 585
        }
      },
      "source": [
        "tsplot(my_stock.close)"
      ],
      "execution_count": 14,
      "outputs": [
        {
          "output_type": "display_data",
          "data": {
            "image/png": "[encoded data removed]",
            "text/plain": [
              "<Figure size 720x576 with 5 Axes>"
            ]
          },
          "metadata": {
            "tags": []
          }
        }
      ]
    },
    {
      "cell_type": "markdown",
      "metadata": {
        "id": "FHimR21rgvm2",
        "colab_type": "text"
      },
      "source": [
        "# Calculating Kurtosis and Skewness, to determine if the data distribution departs from the normal distribution"
      ]
    },
    {
      "cell_type": "code",
      "metadata": {
        "id": "FPCww9jFZ84a",
        "colab_type": "code",
        "outputId": "42ede146-e281-42a9-eea5-7dbe1235def7",
        "colab": {
          "base_uri": "https://localhost:8080/",
          "height": 315
        }
      },
      "source": [
        "sns.distplot(my_stock.close);\n",
        "print( 'Kurtosis of normal distribution: {}'.format(scs.kurtosis(my_stock.close)))\n",
        "print( 'Skewness of normal distribution: {}'.format(scs.skew(my_stock.close)))"
      ],
      "execution_count": 15,
      "outputs": [
        {
          "output_type": "stream",
          "text": [
            "Kurtosis of normal distribution: -1.120727538406099\n",
            "Skewness of normal distribution: 0.5069623720320772\n"
          ],
          "name": "stdout"
        },
        {
          "output_type": "display_data",
          "data": {
            "image/png": "[encoded data removed]",
            "text/plain": [
              "<Figure size 432x288 with 1 Axes>"
            ]
          },
          "metadata": {
            "tags": []
          }
        }
      ]
    },
    {
      "cell_type": "markdown",
      "metadata": {
        "id": "ibRSxY4Ch00j",
        "colab_type": "text"
      },
      "source": [
        "Kurtosis: describes heaviness of the tails of a distribution\n",
        "Normal Distribution has a kurtosis of close to 0. If the kurtosis is greater than zero, then distribution has heavier tails. If the kurtosis is less than zero, then the distribution is light tails. And our Kurtosis is less than zero.\n",
        "\n",
        "\n",
        "Skewness: measures asymmetry of the distribution\n",
        "If the skewness is between -0.5 and 0.5, the data are fairly symmetrical. If the skewness is between -1 and — 0.5 or between 0.5 and 1, the data are moderately skewed. If the skewness is less than -1 or greater than 1, the data are highly skewed. And our skewness is greater is .5."
      ]
    },
    {
      "cell_type": "markdown",
      "metadata": {
        "id": "I53NroBd_3z-",
        "colab_type": "text"
      },
      "source": [
        "# Stationarity\n",
        "\n",
        "In statistics, the Dickey–Fuller test tests the null hypothesis that a unit root is present in an autoregressive model. The alternative hypothesis is different depending on which version of the test is used, but is usually stationarity or trend-stationarity.\n",
        "\n",
        "Stationary series has constant mean and variance over time. Rolling average and the rolling standard deviation of time series do not change over time.\n",
        "Dickey-Fuller test\n",
        "\n",
        "# Null Hypothesis (H0): \n",
        "It suggests the time series has a unit root, meaning it is non-stationary. It has some time dependent structure.\n",
        "\n",
        "# Alternate Hypothesis (H1): \n",
        "It suggests the time series does not have a unit root, meaning it is stationary. It does not have time-dependent structure.\n",
        "\n",
        "p-value > 0.05: Accept the null hypothesis (H0), the data has a unit root and is non-stationary.\n",
        "\n",
        "p-value <= 0.05: Reject the null hypothesis (H0), the data does not have a unit root and is stationary."
      ]
    },
    {
      "cell_type": "code",
      "metadata": {
        "id": "sokruf_YADms",
        "colab_type": "code",
        "colab": {
          "base_uri": "https://localhost:8080/",
          "height": 500
        },
        "outputId": "2ddfd56b-9d7e-462a-c165-a609af6eca79"
      },
      "source": [
        "df2=my_stock.resample('D', how=np.mean)\n",
        "\n",
        "def test_stationarity(timeseries):\n",
        "    rolmean = timeseries.rolling(window=30).mean()\n",
        "    rolstd = timeseries.rolling(window=30).std()\n",
        "    \n",
        "    plt.figure(figsize=(14,5))\n",
        "    sns.despine(left=True)\n",
        "    orig = plt.plot(timeseries, color='blue',label='Original')\n",
        "    mean = plt.plot(rolmean, color='red', label='Rolling Mean')\n",
        "    std = plt.plot(rolstd, color='black', label = 'Rolling Std')\n",
        "\n",
        "    plt.legend(loc='best'); plt.title('Rolling Mean & Standard Deviation')\n",
        "    plt.show()\n",
        "    \n",
        "    print ('<Results of Dickey-Fuller Test>')\n",
        "    dftest = adfuller(timeseries, autolag='AIC')\n",
        "    dfoutput = pd.Series(dftest[0:4],\n",
        "                         index=['Test Statistic','p-value','#Lags Used','Number of Observations Used'])\n",
        "    for key,value in dftest[4].items():\n",
        "        dfoutput['Critical Value (%s)'%key] = value\n",
        "    print(dfoutput)\n",
        "test_stationarity(df2.close.dropna())"
      ],
      "execution_count": 17,
      "outputs": [
        {
          "output_type": "display_data",
          "data": {
            "image/png": "[encoded data removed]",
            "text/plain": [
              "<Figure size 1008x360 with 1 Axes>"
            ]
          },
          "metadata": {
            "tags": []
          }
        },
        {
          "output_type": "stream",
          "text": [
            "<Results of Dickey-Fuller Test>\n",
            "Test Statistic                    0.408606\n",
            "p-value                           0.981814\n",
            "#Lags Used                        2.000000\n",
            "Number of Observations Used    1715.000000\n",
            "Critical Value (1%)              -3.434169\n",
            "Critical Value (5%)              -2.863227\n",
            "Critical Value (10%)             -2.567668\n",
            "dtype: float64\n"
          ],
          "name": "stdout"
        }
      ]
    }
  ]
}