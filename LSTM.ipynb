{
  "nbformat": 4,
  "nbformat_minor": 0,
  "metadata": {
    "kernelspec": {
      "display_name": "Python 3",
      "language": "python",
      "name": "python3"
    },
    "language_info": {
      "codemirror_mode": {
        "name": "ipython",
        "version": 3
      },
      "file_extension": ".py",
      "mimetype": "text/x-python",
      "name": "python",
      "nbconvert_exporter": "python",
      "pygments_lexer": "ipython3",
      "version": "3.7.4"
    },
    "colab": {
      "name": "Time Series Analysis-some stylized facts about time-series.ipynb",
      "provenance": [],
      "include_colab_link": true
    }
  },
  "cells": [
    {
      "cell_type": "markdown",
      "metadata": {
        "id": "view-in-github",
        "colab_type": "text"
      },
      "source": [
        "<a href=\"https://colab.research.google.com/github/jesvin1/EPAT_TIMESERIES/blob/master/LSTM.ipynb\" target=\"_parent\"><img src=\"https://colab.research.google.com/assets/colab-badge.svg\" alt=\"Open In Colab\"/></a>"
      ]
    },
    {
      "cell_type": "markdown",
      "metadata": {
        "id": "xVtBtTAiZ83-",
        "colab_type": "text"
      },
      "source": [
        "https://medium.com/datadriveninvestor/some-stylized-facts-about-financial-time-series-with-python-11148137fccf"
      ]
    },
    {
      "cell_type": "code",
      "metadata": {
        "id": "IR6_r4phZ84B",
        "colab_type": "code",
        "colab": {}
      },
      "source": [
        "import pandas as pd\n",
        "import pandas_datareader as web"
      ],
      "execution_count": 0,
      "outputs": []
    },
    {
      "cell_type": "code",
      "metadata": {
        "id": "px4I1pswZ84F",
        "colab_type": "code",
        "colab": {}
      },
      "source": [
        "df=web.DataReader(\"TATAMOTORS.NS\",start='2009-1-1',end='2018-12-31',data_source='yahoo')"
      ],
      "execution_count": 0,
      "outputs": []
    },
    {
      "cell_type": "code",
      "metadata": {
        "id": "nHXaOtG8Z84H",
        "colab_type": "code",
        "outputId": "19d3ed41-438c-4aaf-cea4-f537db3dfb24",
        "colab": {}
      },
      "source": [
        "df.head()"
      ],
      "execution_count": 0,
      "outputs": [
        {
          "output_type": "execute_result",
          "data": {
            "text/html": [
              "<div>\n",
              "<style scoped>\n",
              "    .dataframe tbody tr th:only-of-type {\n",
              "        vertical-align: middle;\n",
              "    }\n",
              "\n",
              "    .dataframe tbody tr th {\n",
              "        vertical-align: top;\n",
              "    }\n",
              "\n",
              "    .dataframe thead th {\n",
              "        text-align: right;\n",
              "    }\n",
              "</style>\n",
              "<table border=\"1\" class=\"dataframe\">\n",
              "  <thead>\n",
              "    <tr style=\"text-align: right;\">\n",
              "      <th></th>\n",
              "      <th>High</th>\n",
              "      <th>Low</th>\n",
              "      <th>Open</th>\n",
              "      <th>Close</th>\n",
              "      <th>Volume</th>\n",
              "      <th>Adj Close</th>\n",
              "    </tr>\n",
              "    <tr>\n",
              "      <th>Date</th>\n",
              "      <th></th>\n",
              "      <th></th>\n",
              "      <th></th>\n",
              "      <th></th>\n",
              "      <th></th>\n",
              "      <th></th>\n",
              "    </tr>\n",
              "  </thead>\n",
              "  <tbody>\n",
              "    <tr>\n",
              "      <th>2009-01-02</th>\n",
              "      <td>36.092899</td>\n",
              "      <td>33.757900</td>\n",
              "      <td>34.430698</td>\n",
              "      <td>34.836300</td>\n",
              "      <td>18566132.0</td>\n",
              "      <td>25.930439</td>\n",
              "    </tr>\n",
              "    <tr>\n",
              "      <th>2009-01-05</th>\n",
              "      <td>36.607300</td>\n",
              "      <td>34.638500</td>\n",
              "      <td>36.607300</td>\n",
              "      <td>35.311199</td>\n",
              "      <td>13382038.0</td>\n",
              "      <td>26.283934</td>\n",
              "    </tr>\n",
              "    <tr>\n",
              "      <th>2009-01-06</th>\n",
              "      <td>37.389000</td>\n",
              "      <td>34.737400</td>\n",
              "      <td>35.608101</td>\n",
              "      <td>36.894299</td>\n",
              "      <td>18622647.0</td>\n",
              "      <td>27.462311</td>\n",
              "    </tr>\n",
              "    <tr>\n",
              "      <th>2009-01-07</th>\n",
              "      <td>37.398899</td>\n",
              "      <td>33.451199</td>\n",
              "      <td>37.398899</td>\n",
              "      <td>34.460400</td>\n",
              "      <td>8271221.0</td>\n",
              "      <td>25.650639</td>\n",
              "    </tr>\n",
              "    <tr>\n",
              "      <th>2009-01-09</th>\n",
              "      <td>35.618000</td>\n",
              "      <td>31.106300</td>\n",
              "      <td>35.618000</td>\n",
              "      <td>32.798199</td>\n",
              "      <td>11836653.0</td>\n",
              "      <td>24.413376</td>\n",
              "    </tr>\n",
              "  </tbody>\n",
              "</table>\n",
              "</div>"
            ],
            "text/plain": [
              "                 High        Low       Open      Close      Volume  Adj Close\n",
              "Date                                                                         \n",
              "2009-01-02  36.092899  33.757900  34.430698  34.836300  18566132.0  25.930439\n",
              "2009-01-05  36.607300  34.638500  36.607300  35.311199  13382038.0  26.283934\n",
              "2009-01-06  37.389000  34.737400  35.608101  36.894299  18622647.0  27.462311\n",
              "2009-01-07  37.398899  33.451199  37.398899  34.460400   8271221.0  25.650639\n",
              "2009-01-09  35.618000  31.106300  35.618000  32.798199  11836653.0  24.413376"
            ]
          },
          "metadata": {
            "tags": []
          },
          "execution_count": 39
        }
      ]
    },
    {
      "cell_type": "code",
      "metadata": {
        "id": "TEBK0MPWZ84M",
        "colab_type": "code",
        "colab": {}
      },
      "source": [
        "ts=df.iloc[:,5:6]"
      ],
      "execution_count": 0,
      "outputs": []
    },
    {
      "cell_type": "code",
      "metadata": {
        "id": "Kk6cv84BZ84O",
        "colab_type": "code",
        "outputId": "82c347a0-0574-4e6b-c273-38cbb6d935c6",
        "colab": {}
      },
      "source": [
        "ts.head()"
      ],
      "execution_count": 0,
      "outputs": [
        {
          "output_type": "execute_result",
          "data": {
            "text/html": [
              "<div>\n",
              "<style scoped>\n",
              "    .dataframe tbody tr th:only-of-type {\n",
              "        vertical-align: middle;\n",
              "    }\n",
              "\n",
              "    .dataframe tbody tr th {\n",
              "        vertical-align: top;\n",
              "    }\n",
              "\n",
              "    .dataframe thead th {\n",
              "        text-align: right;\n",
              "    }\n",
              "</style>\n",
              "<table border=\"1\" class=\"dataframe\">\n",
              "  <thead>\n",
              "    <tr style=\"text-align: right;\">\n",
              "      <th></th>\n",
              "      <th>Adj Close</th>\n",
              "    </tr>\n",
              "    <tr>\n",
              "      <th>Date</th>\n",
              "      <th></th>\n",
              "    </tr>\n",
              "  </thead>\n",
              "  <tbody>\n",
              "    <tr>\n",
              "      <th>2009-01-02</th>\n",
              "      <td>25.930439</td>\n",
              "    </tr>\n",
              "    <tr>\n",
              "      <th>2009-01-05</th>\n",
              "      <td>26.283934</td>\n",
              "    </tr>\n",
              "    <tr>\n",
              "      <th>2009-01-06</th>\n",
              "      <td>27.462311</td>\n",
              "    </tr>\n",
              "    <tr>\n",
              "      <th>2009-01-07</th>\n",
              "      <td>25.650639</td>\n",
              "    </tr>\n",
              "    <tr>\n",
              "      <th>2009-01-09</th>\n",
              "      <td>24.413376</td>\n",
              "    </tr>\n",
              "  </tbody>\n",
              "</table>\n",
              "</div>"
            ],
            "text/plain": [
              "            Adj Close\n",
              "Date                 \n",
              "2009-01-02  25.930439\n",
              "2009-01-05  26.283934\n",
              "2009-01-06  27.462311\n",
              "2009-01-07  25.650639\n",
              "2009-01-09  24.413376"
            ]
          },
          "metadata": {
            "tags": []
          },
          "execution_count": 4
        }
      ]
    },
    {
      "cell_type": "code",
      "metadata": {
        "id": "kGy4bo77Z84Q",
        "colab_type": "code",
        "colab": {}
      },
      "source": [
        "import matplotlib.pyplot as plt\n"
      ],
      "execution_count": 0,
      "outputs": []
    },
    {
      "cell_type": "code",
      "metadata": {
        "id": "QlfnlmIzZ84S",
        "colab_type": "code",
        "outputId": "1ffaa8d2-25a1-4f41-f704-2e05ef859af2",
        "colab": {}
      },
      "source": [
        "df.plot()\n",
        "plt.xticks(rotation=45)"
      ],
      "execution_count": 0,
      "outputs": [
        {
          "output_type": "execute_result",
          "data": {
            "text/plain": [
              "(array([733408., 733773., 734138., 734503., 734869., 735234., 735599.,\n",
              "        735964., 736330., 736695., 737060.]),\n",
              " <a list of 11 Text xticklabel objects>)"
            ]
          },
          "metadata": {
            "tags": []
          },
          "execution_count": 11
        },
        {
          "output_type": "display_data",
          "data": {
            "image/png": "[encoded data removed]",
            "text/plain": [
              "<Figure size 432x288 with 1 Axes>"
            ]
          },
          "metadata": {
            "tags": [],
            "needs_background": "light"
          }
        }
      ]
    },
    {
      "cell_type": "code",
      "metadata": {
        "id": "xfEexyWlZ84T",
        "colab_type": "code",
        "outputId": "b3a31dad-63f6-46b1-cf1b-824039415e62",
        "colab": {}
      },
      "source": [
        "ts['daily_return']=ts['Adj Close'].pct_change(1)"
      ],
      "execution_count": 0,
      "outputs": [
        {
          "output_type": "stream",
          "text": [
            "/home/jesvinsebastian/miniconda3/lib/python3.7/site-packages/ipykernel_launcher.py:1: SettingWithCopyWarning: \n",
            "A value is trying to be set on a copy of a slice from a DataFrame.\n",
            "Try using .loc[row_indexer,col_indexer] = value instead\n",
            "\n",
            "See the caveats in the documentation: http://pandas.pydata.org/pandas-docs/stable/user_guide/indexing.html#returning-a-view-versus-a-copy\n",
            "  \"\"\"Entry point for launching an IPython kernel.\n"
          ],
          "name": "stderr"
        }
      ]
    },
    {
      "cell_type": "code",
      "metadata": {
        "id": "xRN6IApsZ84V",
        "colab_type": "code",
        "outputId": "3f319e12-6039-4ecf-b96b-7105ab9ea2fb",
        "colab": {}
      },
      "source": [
        "ts['daily_return'].plot()"
      ],
      "execution_count": 0,
      "outputs": [
        {
          "output_type": "execute_result",
          "data": {
            "text/plain": [
              "<matplotlib.axes._subplots.AxesSubplot at 0x7f26a4b72ad0>"
            ]
          },
          "metadata": {
            "tags": []
          },
          "execution_count": 54
        },
        {
          "output_type": "display_data",
          "data": {
            "image/png": "[encoded data removed]",
            "text/plain": [
              "<Figure size 432x288 with 1 Axes>"
            ]
          },
          "metadata": {
            "tags": [],
            "needs_background": "light"
          }
        }
      ]
    },
    {
      "cell_type": "code",
      "metadata": {
        "id": "IxHXihPwZ84W",
        "colab_type": "code",
        "colab": {}
      },
      "source": [
        "import numpy as np"
      ],
      "execution_count": 0,
      "outputs": []
    },
    {
      "cell_type": "code",
      "metadata": {
        "id": "2BrNsVwlZ84Y",
        "colab_type": "code",
        "outputId": "8c7ba228-5b40-4f57-9301-65c4646e9e83",
        "colab": {}
      },
      "source": [
        "ts['log_return']=np.log(1+ts['daily_return'])"
      ],
      "execution_count": 0,
      "outputs": [
        {
          "output_type": "stream",
          "text": [
            "/home/jesvinsebastian/miniconda3/lib/python3.7/site-packages/ipykernel_launcher.py:1: SettingWithCopyWarning: \n",
            "A value is trying to be set on a copy of a slice from a DataFrame.\n",
            "Try using .loc[row_indexer,col_indexer] = value instead\n",
            "\n",
            "See the caveats in the documentation: http://pandas.pydata.org/pandas-docs/stable/user_guide/indexing.html#returning-a-view-versus-a-copy\n",
            "  \"\"\"Entry point for launching an IPython kernel.\n"
          ],
          "name": "stderr"
        }
      ]
    },
    {
      "cell_type": "code",
      "metadata": {
        "id": "FPCww9jFZ84a",
        "colab_type": "code",
        "outputId": "f223684d-4332-42bd-e2b4-f54c2020e130",
        "colab": {}
      },
      "source": [
        "ts['log_return'].plot()"
      ],
      "execution_count": 0,
      "outputs": [
        {
          "output_type": "execute_result",
          "data": {
            "text/plain": [
              "<matplotlib.axes._subplots.AxesSubplot at 0x7f26a431d290>"
            ]
          },
          "metadata": {
            "tags": []
          },
          "execution_count": 60
        },
        {
          "output_type": "display_data",
          "data": {
            "image/png": "[encoded data removed]",
            "text/plain": [
              "<Figure size 432x288 with 1 Axes>"
            ]
          },
          "metadata": {
            "tags": [],
            "needs_background": "light"
          }
        }
      ]
    },
    {
      "cell_type": "code",
      "metadata": {
        "id": "1dBuuO5mZ84b",
        "colab_type": "code",
        "outputId": "b5356f93-26f8-481e-9799-54703347329d",
        "colab": {}
      },
      "source": [
        "mean=ts['log_return'].mean()\n",
        "std=ts['log_return'].std()\n",
        "ts['log_return'].hist(bins=20)\n",
        "\n",
        "plt.axvline(x=mean,color='r', linestyle='--')\n",
        "plt.axvline(x=std, color='k', linestyle='--')\n",
        "plt.axvline(x=-std, color='k', linestyle='--')\n",
        "\n",
        "plt.show()\n"
      ],
      "execution_count": 0,
      "outputs": [
        {
          "output_type": "display_data",
          "data": {
            "image/png": "[encoded data removed]",
            "text/plain": [
              "<Figure size 432x288 with 1 Axes>"
            ]
          },
          "metadata": {
            "tags": [],
            "needs_background": "light"
          }
        }
      ]
    },
    {
      "cell_type": "code",
      "metadata": {
        "id": "x-h8ANoOZ84d",
        "colab_type": "code",
        "colab": {}
      },
      "source": [
        "from scipy import stats"
      ],
      "execution_count": 0,
      "outputs": []
    },
    {
      "cell_type": "code",
      "metadata": {
        "id": "9i-zV3BnZ84e",
        "colab_type": "code",
        "outputId": "79fd6f5a-72d2-4333-b77b-0a10c7a1e509",
        "colab": {}
      },
      "source": [
        "x=np.asarray(ts['log_return'].dropna())\n",
        "stats.jarque_bera(x)\n",
        "#Since the p-value is less than any significant level of aplha, \n",
        "#we can reject the Null and conclude that data do not follow a normal distribution."
      ],
      "execution_count": 0,
      "outputs": [
        {
          "output_type": "execute_result",
          "data": {
            "text/plain": [
              "(1297.7536040583857, 0.0)"
            ]
          },
          "metadata": {
            "tags": []
          },
          "execution_count": 11
        }
      ]
    },
    {
      "cell_type": "code",
      "metadata": {
        "id": "_nv8l-VyZ84g",
        "colab_type": "code",
        "outputId": "0ed4209f-1293-42c2-ea72-59e686a7386e",
        "colab": {}
      },
      "source": [
        "stats.kurtosis(x)\n",
        "#Is greater than 3. Hence, the return distribution is called “leptokurtic”."
      ],
      "execution_count": 0,
      "outputs": [
        {
          "output_type": "execute_result",
          "data": {
            "text/plain": [
              "3.534754356097589"
            ]
          },
          "metadata": {
            "tags": []
          },
          "execution_count": 13
        }
      ]
    },
    {
      "cell_type": "code",
      "metadata": {
        "id": "ZSfQdtyEZ84i",
        "colab_type": "code",
        "colab": {}
      },
      "source": [
        "!pip install yfinance"
      ],
      "execution_count": 0,
      "outputs": []
    }
  ]
}