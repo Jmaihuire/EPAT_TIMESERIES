{
  "nbformat": 4,
  "nbformat_minor": 0,
  "metadata": {
    "colab": {
      "name": "Copy of TIme Series Forcasting important.ipynb",
      "provenance": [],
      "authorship_tag": "ABX9TyOTjbvmB12PWW6+lWaluF79",
      "include_colab_link": true
    },
    "kernelspec": {
      "name": "python3",
      "display_name": "Python 3"
    }
  },
  "cells": [
    {
      "cell_type": "markdown",
      "metadata": {
        "id": "view-in-github",
        "colab_type": "text"
      },
      "source": [
        "<a href=\"https://colab.research.google.com/github/jesvin1/EPAT_TIMESERIES/blob/master/TIme_Series_Forcasting_important.ipynb\" target=\"_parent\"><img src=\"https://colab.research.google.com/assets/colab-badge.svg\" alt=\"Open In Colab\"/></a>"
      ]
    },
    {
      "cell_type": "markdown",
      "metadata": {
        "id": "irVhkobHwM4y",
        "colab_type": "text"
      },
      "source": [
        "https://nbviewer.jupyter.org/github/leandrovrabelo/tsmodels/blob/master/notebooks/english/Basic%20Principles%20for%20Time%20Series%20Forecasting.ipynb"
      ]
    }
  ]
}