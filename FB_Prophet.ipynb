{
  "nbformat": 4,
  "nbformat_minor": 0,
  "metadata": {
    "kernelspec": {
      "display_name": "Python 3",
      "language": "python",
      "name": "python3"
    },
    "language_info": {
      "codemirror_mode": {
        "name": "ipython",
        "version": 3
      },
      "file_extension": ".py",
      "mimetype": "text/x-python",
      "name": "python",
      "nbconvert_exporter": "python",
      "pygments_lexer": "ipython3",
      "version": "3.7.4"
    },
    "colab": {
      "name": "Auto ARIMA.ipynb",
      "provenance": []
    }
  },
  "cells": [
    {
      "cell_type": "code",
      "metadata": {
        "id": "kdczrlcOOeD5",
        "colab_type": "code",
        "colab": {}
      },
      "source": [
        "https://medium.com/@cdabakoglu/time-series-forecasting-arima-lstm-prophet-with-python-e73a750a9887\n",
        "https://blog.exploratory.io/is-prophet-better-than-arima-for-forecasting-time-series-fa9ae08a5851\n",
        "https://towardsdatascience.com/time-series-forecasting-with-prophet-54f2ac5e722e\n",
        "https://codeburst.io/introduction-to-time-series-forecasting-with-prophet-by-facebook-ae0a54d09e88\n",
        "https://www.analyticsvidhya.com/blog/2018/05/generate-accurate-forecasts-facebook-prophet-python-r/\n",
        "https://towardsdatascience.com/implementing-facebook-prophet-efficiently-c241305405a3"
      ],
      "execution_count": 0,
      "outputs": []
    }
  ]
}